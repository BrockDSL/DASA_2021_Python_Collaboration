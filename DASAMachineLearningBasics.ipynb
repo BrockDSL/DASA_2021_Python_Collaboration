{
  "nbformat": 4,
  "nbformat_minor": 0,
  "metadata": {
    "kernelspec": {
      "display_name": "Python 3",
      "language": "python",
      "name": "python3"
    },
    "language_info": {
      "codemirror_mode": {
        "name": "ipython",
        "version": 3
      },
      "file_extension": ".py",
      "mimetype": "text/x-python",
      "name": "python",
      "nbconvert_exporter": "python",
      "pygments_lexer": "ipython3",
      "version": "3.7.4"
    },
    "colab": {
      "name": "Copy of Machine Learning Basics.ipynb",
      "provenance": [],
      "collapsed_sections": [],
      "include_colab_link": true
    }
  },
  "cells": [
    {
      "cell_type": "markdown",
      "metadata": {
        "id": "view-in-github",
        "colab_type": "text"
      },
      "source": [
        "<a href=\"https://colab.research.google.com/github/BrockDSL/DASA_2021_Python_Collaboration/blob/main/DASAMachineLearningBasics.ipynb\" target=\"_parent\"><img src=\"https://colab.research.google.com/assets/colab-badge.svg\" alt=\"Open In Colab\"/></a>"
      ]
    },
    {
      "cell_type": "markdown",
      "metadata": {
        "id": "Bif0tsBDxtIr"
      },
      "source": [
        "![DSL_logo](https://github.com/BrockDSL/Machine_Learning_with_Python/blob/master/dsl_logo.png?raw=1)\n",
        "\n",
        "# Introduction to Machine Learning with Python\n",
        "\n",
        "\n",
        "In our [Data Science](https://brockdsl.github.io/Python_2.0_Workshop/) workshop we introduced some concepts by looking at some fictional data about wine samples that were rated a quality score. In this session we are going to see if we can build a machine learning model to see if we can predict which wine sample is rated the highest quality based on the answers to some questions. \n",
        "\n",
        "As a further exercise we'll setup an example of a two layer neural network. I encourage you to try out this examples after class is done.\n",
        "\n"
      ]
    },
    {
      "cell_type": "markdown",
      "metadata": {
        "id": "j6PZm1dKxtIw"
      },
      "source": [
        "## First, a brief recap on Python code\n",
        "\n",
        "The following code should look familiar to you"
      ]
    },
    {
      "cell_type": "code",
      "metadata": {
        "id": "HHQNPWMZxtIx",
        "colab": {
          "base_uri": "https://localhost:8080/"
        },
        "outputId": "4d02d4d1-f220-43d9-8ef3-bbf538e2a945"
      },
      "source": [
        "import pandas as pd\n",
        "\n",
        "#Load the file into a dataframe using the pandas read_csv function\n",
        "data = pd.read_csv('https://archive.ics.uci.edu/ml/machine-learning-databases/wine-quality/winequality-red.csv', sep=';')\n",
        "\n",
        "#Tell it what our columns are by passing along a list of that information\n",
        "data.columns = [\"fixed acidity\",\"volatile acidity\",\"citric acid\",\"residual sugar\",\"chlorides\",\"free sulfur dioxide\",\"total sulfur dioxide\",\"density\",\"pH\",\"sulphates\",\"alcohol\",\"quality\"]\n",
        "\n",
        "print(\"Poor Quality or High Quality?\")\n",
        "print(data.groupby(\"quality\")[\"citric acid\"].count())\n",
        "print(\"\\nTotal records:\", len(data))\n"
      ],
      "execution_count": 6,
      "outputs": [
        {
          "output_type": "stream",
          "name": "stdout",
          "text": [
            "Poor Quality or High Quality?\n",
            "quality\n",
            "3     10\n",
            "4     53\n",
            "5    681\n",
            "6    638\n",
            "7    199\n",
            "8     18\n",
            "Name: citric acid, dtype: int64\n",
            "\n",
            "Total records: 1599\n"
          ]
        }
      ]
    },
    {
      "cell_type": "markdown",
      "metadata": {
        "id": "3xXF7W2lxtIy"
      },
      "source": [
        "## Machine Learning Basics\n",
        "\n",
        "Don't let the impressive name fool you. Machine learning is more or less the following steps\n",
        "\n",
        "1. Getting your data and cleaning it up\n",
        "1. Identify what parts of your data are **features**\n",
        "1. Identify what is your **target variable** that you'll guess based on your features\n",
        "1. Split your data in **training and testing sets**\n",
        "1. **Train** your model against the training set\n",
        "1. **Validate** your model against the testing set\n",
        "1. ????\n",
        "1. Profit\n",
        "\n",
        "\n",
        "We are going to use the Python library [scikit-learn](https://scikit-learn.org/stable/) and we are going to be doing a [classification](https://en.wikipedia.org/wiki/Statistical_classification) problem.\n",
        "\n",
        "![classification](https://raw.githubusercontent.com/BrockDSL/Machine_Learning_with_Python/master/classification.png)\n"
      ]
    },
    {
      "cell_type": "markdown",
      "metadata": {
        "id": "RV3QmkVcxtIz"
      },
      "source": [
        "## Decision Tree\n",
        "\n",
        "This is one of the most basic machine learning model you can use. It is considered a [supervised learning](https://en.wikipedia.org/wiki/Supervised_learning) method. You create the best [decision tree](https://en.wikipedia.org/wiki/Decision_tree_learning) that you can based on your training data. Here's an example tree that shows your chance of surviving the Titanic disaster. What we are creating is series of question that when answered will put observations into a _bucket_ or in other terms one of the classification options. We also devise a probability associated with an observation falling into that _bucket_.\n",
        "\n",
        "The features are described by the labels, however ``sibsp`` - is the number of spouses or siblings on board.\n",
        "\n",
        "![dtree](https://upload.wikimedia.org/wikipedia/commons/e/eb/Decision_Tree.jpg)\n",
        "\n",
        "\n",
        "So in this tree the most important question to ask first is what is the gender of the person you are considering, then next most important question is age above 9 and a half, followed lastly by, does this person have less than three spouses or siblings on board.\n"
      ]
    },
    {
      "cell_type": "markdown",
      "metadata": {
        "id": "mo9ZhkUjxtI0"
      },
      "source": [
        "Let's start by loading the Libraries we need"
      ]
    },
    {
      "cell_type": "code",
      "metadata": {
        "id": "cB_qUWNMxtI1"
      },
      "source": [
        "\n",
        "#This should look familar\n",
        "import pandas as pd\n",
        "#import numpy as np\n",
        "\n",
        "\n",
        "#We'll draw a graph later on\n",
        "import matplotlib.pyplot as plt\n",
        "\n",
        "#Our 'Machine Learning pieces'\n",
        "from sklearn.tree import DecisionTreeClassifier \n",
        "from sklearn.model_selection import train_test_split\n",
        "from sklearn.tree import export_text\n",
        "from sklearn import metrics \n",
        "from sklearn import tree\n"
      ],
      "execution_count": 7,
      "outputs": []
    },
    {
      "cell_type": "markdown",
      "metadata": {
        "id": "T3qQyaGIxtI2"
      },
      "source": [
        "## Getting the data ready\n",
        "\n",
        "Now, let's load our data. Our decision tree can only work with numerical values, so we'll have to modify the columns of data that are text based. As stated preparing the data is usually the most difficult part of the process."
      ]
    },
    {
      "cell_type": "code",
      "metadata": {
        "id": "T-D7eb-kxtI2",
        "colab": {
          "base_uri": "https://localhost:8080/",
          "height": 204
        },
        "outputId": "7b029665-869b-4400-b6ea-06e6dcf636eb"
      },
      "source": [
        "data = pd.read_csv('https://archive.ics.uci.edu/ml/machine-learning-databases/wine-quality/winequality-red.csv', sep=';')\n",
        "data.columns = [\"fixed acidity\",\"volatile acidity\",\"citric acid\",\"residual sugar\",\"chlorides\",\"free sulfur dioxide\",\"total sulfur dioxide\",\"density\",\"pH\",\"sulphates\",\"alcohol\",\"quality\"]\n",
        "data.head()"
      ],
      "execution_count": 15,
      "outputs": [
        {
          "output_type": "execute_result",
          "data": {
            "text/html": [
              "<div>\n",
              "<style scoped>\n",
              "    .dataframe tbody tr th:only-of-type {\n",
              "        vertical-align: middle;\n",
              "    }\n",
              "\n",
              "    .dataframe tbody tr th {\n",
              "        vertical-align: top;\n",
              "    }\n",
              "\n",
              "    .dataframe thead th {\n",
              "        text-align: right;\n",
              "    }\n",
              "</style>\n",
              "<table border=\"1\" class=\"dataframe\">\n",
              "  <thead>\n",
              "    <tr style=\"text-align: right;\">\n",
              "      <th></th>\n",
              "      <th>fixed acidity</th>\n",
              "      <th>volatile acidity</th>\n",
              "      <th>citric acid</th>\n",
              "      <th>residual sugar</th>\n",
              "      <th>chlorides</th>\n",
              "      <th>free sulfur dioxide</th>\n",
              "      <th>total sulfur dioxide</th>\n",
              "      <th>density</th>\n",
              "      <th>pH</th>\n",
              "      <th>sulphates</th>\n",
              "      <th>alcohol</th>\n",
              "      <th>quality</th>\n",
              "    </tr>\n",
              "  </thead>\n",
              "  <tbody>\n",
              "    <tr>\n",
              "      <th>0</th>\n",
              "      <td>7.4</td>\n",
              "      <td>0.70</td>\n",
              "      <td>0.00</td>\n",
              "      <td>1.9</td>\n",
              "      <td>0.076</td>\n",
              "      <td>11.0</td>\n",
              "      <td>34.0</td>\n",
              "      <td>0.9978</td>\n",
              "      <td>3.51</td>\n",
              "      <td>0.56</td>\n",
              "      <td>9.4</td>\n",
              "      <td>5</td>\n",
              "    </tr>\n",
              "    <tr>\n",
              "      <th>1</th>\n",
              "      <td>7.8</td>\n",
              "      <td>0.88</td>\n",
              "      <td>0.00</td>\n",
              "      <td>2.6</td>\n",
              "      <td>0.098</td>\n",
              "      <td>25.0</td>\n",
              "      <td>67.0</td>\n",
              "      <td>0.9968</td>\n",
              "      <td>3.20</td>\n",
              "      <td>0.68</td>\n",
              "      <td>9.8</td>\n",
              "      <td>5</td>\n",
              "    </tr>\n",
              "    <tr>\n",
              "      <th>2</th>\n",
              "      <td>7.8</td>\n",
              "      <td>0.76</td>\n",
              "      <td>0.04</td>\n",
              "      <td>2.3</td>\n",
              "      <td>0.092</td>\n",
              "      <td>15.0</td>\n",
              "      <td>54.0</td>\n",
              "      <td>0.9970</td>\n",
              "      <td>3.26</td>\n",
              "      <td>0.65</td>\n",
              "      <td>9.8</td>\n",
              "      <td>5</td>\n",
              "    </tr>\n",
              "    <tr>\n",
              "      <th>3</th>\n",
              "      <td>11.2</td>\n",
              "      <td>0.28</td>\n",
              "      <td>0.56</td>\n",
              "      <td>1.9</td>\n",
              "      <td>0.075</td>\n",
              "      <td>17.0</td>\n",
              "      <td>60.0</td>\n",
              "      <td>0.9980</td>\n",
              "      <td>3.16</td>\n",
              "      <td>0.58</td>\n",
              "      <td>9.8</td>\n",
              "      <td>6</td>\n",
              "    </tr>\n",
              "    <tr>\n",
              "      <th>4</th>\n",
              "      <td>7.4</td>\n",
              "      <td>0.70</td>\n",
              "      <td>0.00</td>\n",
              "      <td>1.9</td>\n",
              "      <td>0.076</td>\n",
              "      <td>11.0</td>\n",
              "      <td>34.0</td>\n",
              "      <td>0.9978</td>\n",
              "      <td>3.51</td>\n",
              "      <td>0.56</td>\n",
              "      <td>9.4</td>\n",
              "      <td>5</td>\n",
              "    </tr>\n",
              "  </tbody>\n",
              "</table>\n",
              "</div>"
            ],
            "text/plain": [
              "   fixed acidity  volatile acidity  citric acid  ...  sulphates  alcohol  quality\n",
              "0            7.4              0.70         0.00  ...       0.56      9.4        5\n",
              "1            7.8              0.88         0.00  ...       0.68      9.8        5\n",
              "2            7.8              0.76         0.04  ...       0.65      9.8        5\n",
              "3           11.2              0.28         0.56  ...       0.58      9.8        6\n",
              "4            7.4              0.70         0.00  ...       0.56      9.4        5\n",
              "\n",
              "[5 rows x 12 columns]"
            ]
          },
          "metadata": {},
          "execution_count": 15
        }
      ]
    },
    {
      "cell_type": "markdown",
      "metadata": {
        "id": "MK-S0JNHxtI5"
      },
      "source": [
        "## Building and Running the Model"
      ]
    },
    {
      "cell_type": "markdown",
      "metadata": {
        "id": "vYDN-8jLxtI5"
      },
      "source": [
        "We now have our data cleaned up, and represented in a way that Scikit will be able to analyze. To be honest the most difficult part of the process is done.\n",
        "\n",
        "We now need to split our columns in two types:\n",
        "- **features** represent the data we use to build our guess\n",
        "- **target variable** the thing our model hopes to guess"
      ]
    },
    {
      "cell_type": "code",
      "metadata": {
        "id": "xa1meCmOxtI6"
      },
      "source": [
        "#all of the following columns are features, we'll make a list of their names\n",
        "features = [\"fixed acidity\",\\\n",
        "            \"volatile acidity\",\\\n",
        "            \"citric acid\",\\\n",
        "            \"residual sugar\",\\\n",
        "            \"chlorides\",\n",
        "            \"free sulfur dioxide\",\\\n",
        "            \"total sulfur dioxide\",\\\n",
        "            \"density\",\n",
        "            \"pH\",\\\n",
        "            \"sulphates\",\\\n",
        "            \"alcohol\",\\\n",
        "            ]\n",
        "\n",
        "X = data[features]\n",
        "\n",
        "#We want to target the quality column\n",
        "y = data.quality"
      ],
      "execution_count": 14,
      "outputs": []
    },
    {
      "cell_type": "markdown",
      "metadata": {
        "id": "rhruO3UHxtI7"
      },
      "source": [
        "\n",
        "## Training and testing\n",
        "\n",
        "Now that we have built our model we need to get the data ready for it. We do this by breaking it into two different pieces. The diagram shows a conceptualization of how this is proportioned.\n",
        "\n",
        "![Train Test Split](https://raw.githubusercontent.com/BrockDSL/Machine_Learning_with_Python/master/train_test.png)\n",
        "\n",
        "- **Training set** this is what is used to build the model\n",
        "- **Testing set** this is used to see if our guesses are correct\n",
        "\n",
        "Before we were looking at the **columns** of the data, this investigation of training/testing looks at the **rows** of data.\n"
      ]
    },
    {
      "cell_type": "code",
      "metadata": {
        "id": "4p-MRbnwxtI7"
      },
      "source": [
        "#Training and test together make up 100% of the data!\n",
        "#We start with a baseline of 30% of our data as testing\n",
        "\n",
        "test_percent = 30\n",
        "train_percent = 100 - test_percent\n",
        "\n",
        "X_train, X_test, y_train, y_test = train_test_split(X, \\\n",
        "                                                    y, \\\n",
        "                                                    test_size=test_percent/100.0,\n",
        "                                                   random_state=10)"
      ],
      "execution_count": 16,
      "outputs": []
    },
    {
      "cell_type": "markdown",
      "metadata": {
        "id": "gjlsU2pTxtI7"
      },
      "source": [
        "Now the interesting part, we build our model, **train** it against the **training set** and see how it **predicts** against the **testing set**"
      ]
    },
    {
      "cell_type": "code",
      "metadata": {
        "id": "M6malq8NxtI8"
      },
      "source": [
        "# Create Decision Tree classifer object\n",
        "treeClass = DecisionTreeClassifier()\n",
        "\n",
        "# Train\n",
        "treeClass = treeClass.fit(X_train,y_train)\n",
        "\n",
        "#Predict\n",
        "y_pred = treeClass.predict(X_test)\n"
      ],
      "execution_count": 31,
      "outputs": []
    },
    {
      "cell_type": "markdown",
      "metadata": {
        "id": "tyuQcU1VxtI8"
      },
      "source": [
        "## Accuracy of the Model\n",
        "\n",
        "To see how good our machine learning model is we need to see how accurate our predictions are. `Scikit` has built in functions and [metrics](https://scikit-learn.org/stable/modules/model_evaluation.html) to do this for us."
      ]
    },
    {
      "cell_type": "code",
      "metadata": {
        "id": "oJEEykU_xtI8",
        "colab": {
          "base_uri": "https://localhost:8080/"
        },
        "outputId": "83c2a048-3597-46d4-b4e1-5f2eacff8007"
      },
      "source": [
        "print(\"Accuracy: \")\n",
        "print(metrics.accuracy_score(y_test,y_pred))"
      ],
      "execution_count": 19,
      "outputs": [
        {
          "output_type": "stream",
          "name": "stdout",
          "text": [
            "Accuracy: \n",
            "0.60625\n"
          ]
        }
      ]
    },
    {
      "cell_type": "markdown",
      "metadata": {
        "id": "x9DDQ5q6xtI9"
      },
      "source": [
        "\n",
        "## Making Predictions\n",
        "\n",
        "Not bad. We can use our model to predict a guess for **ill** if we pass along all of the other parameters. Our model only tells us if someone is ill or not. This is directly asking our classification model to give us a prediction based on a pretend record.\n",
        "\n",
        "Since this classifier tells us if someone is ill or someone is not ill, it has two outputs.\n"
      ]
    },
    {
      "cell_type": "code",
      "metadata": {
        "id": "Z6eiDXHextI9",
        "colab": {
          "base_uri": "https://localhost:8080/"
        },
        "outputId": "747d2389-6f84-4f55-96c0-80a7ecd2c553"
      },
      "source": [
        "data.quality.unique()"
      ],
      "execution_count": null,
      "outputs": [
        {
          "output_type": "execute_result",
          "data": {
            "text/plain": [
              "array([5, 6, 7, 4, 8, 3])"
            ]
          },
          "metadata": {},
          "execution_count": 12
        }
      ]
    },
    {
      "cell_type": "code",
      "metadata": {
        "id": "0EyejmEXxtI9",
        "colab": {
          "base_uri": "https://localhost:8080/"
        },
        "outputId": "5ada1281-6ae1-4626-f49b-c2c1cfd0a267"
      },
      "source": [
        "# I randomly picked a record in the dataset to test if the prediction is correct. \n",
        "# This is from line: 281 of the datafile\n",
        "redwine_x_quality_of_8 = [\n",
        "        10.3, #fixed acidity\n",
        "        0.32, #volatile acidity\n",
        "        0.45, #citric acid\n",
        "        6.4, #residual sugar \n",
        "        0.073, #chlorides\n",
        "        5, #free sulfur dioxide\n",
        "        13, #total sulfur dioxide\n",
        "        0.9976, #density\n",
        "        3.23, #pH\n",
        "        0.82, #sulphates\n",
        "        12.6, #alcohol\n",
        "]\n",
        "\n",
        "redwine_x_quality_of_8 = pd.DataFrame([redwine_x_quality_of_8],columns=X_test.columns)\n",
        "\n",
        "print(\"Red Wine with a quality of 8\")\n",
        "print(\"Class predicted by model: \")\n",
        "print(treeClass.predict(redwine_x_quality_of_8))\n",
        "print(\"Probablity associated with the guess: \")\n",
        "print(treeClass.predict_proba(redwine_x_quality_of_8))\n",
        "\n",
        "\n",
        "\n",
        "# I randomly picked a record in the dataset to test if the prediction is correct. \n",
        "# This is from line: 692 of the datafile\n",
        "redwine_x_quality_of_3 = [\n",
        "        7.4, #fixed acidity\n",
        "        1.185, #volatile acidity\n",
        "        0, #citric acid\n",
        "        4.25, #residual sugar\n",
        "        0.097, #chlorides\n",
        "        5, #free sulfur dioxide\n",
        "        14, #total sulfur dioxide\n",
        "        0.9966, #density\n",
        "        3.63, #pH\n",
        "        0.54, #sulphates\n",
        "        10.7, #alcohol\n",
        "]\n",
        "\n",
        "#Use the dataframe of our fictional person in our model and get our prediction\n",
        "redwine_x_quality_of_3 = pd.DataFrame([redwine_x_quality_of_3],columns=X_test.columns)\n",
        "\n",
        "print(\"\\nRed Wine with a quality of 3\")\n",
        "print(\"Class predicted by model: \")\n",
        "print(treeClass.predict(redwine_x_quality_of_3))\n",
        "print(\"Probablity associated with the guess: \")\n",
        "print(treeClass.predict_proba(redwine_x_quality_of_3))\n",
        "\n"
      ],
      "execution_count": 20,
      "outputs": [
        {
          "output_type": "stream",
          "name": "stdout",
          "text": [
            "Red Wine with a quality of 8\n",
            "Class predicted by model: \n",
            "[7]\n",
            "Probablity associated with the guess: \n",
            "[[0. 0. 0. 0. 1. 0.]]\n",
            "\n",
            "Red Wine with a quality of 3\n",
            "Class predicted by model: \n",
            "[3]\n",
            "Probablity associated with the guess: \n",
            "[[1. 0. 0. 0. 0. 0.]]\n"
          ]
        }
      ]
    },
    {
      "cell_type": "markdown",
      "metadata": {
        "id": "3VwVLeBfxtI9"
      },
      "source": [
        "With this model constucted we can make ask it question so to speak. We can provide it with details about a pretend person and see what classification the model will place this person.\n",
        "\n",
        "## Q1 - Making a prediction with our model\n",
        "\n",
        "Try to set some parameters in the `pretend_rw` variable below to make the prediction determine that the red wine has a quality of **8**. If you can find one please copy and paste it into the chat box for others to try. \n",
        "\n",
        "When you are done experiementing please type \"Done\" in the chat box. "
      ]
    },
    {
      "cell_type": "code",
      "metadata": {
        "id": "SmYZzuPoxtI9",
        "colab": {
          "base_uri": "https://localhost:8080/"
        },
        "outputId": "5f989ae7-df76-4783-fb3f-f219d5169b37"
      },
      "source": [
        "pretend_rw = pd.DataFrame([\n",
        "        10.3, #fixed acidity\n",
        "        0.32, #volatile acidity\n",
        "        0.45, #citric acid\n",
        "        6.4, #residual sugar \n",
        "        0.073, #chlorides\n",
        "        5, #free sulfur dioxide\n",
        "        13, #total sulfur dioxide\n",
        "        0.9976, #density\n",
        "        8.23, #pH - choose a value between 0-14\n",
        "        0.82, #sulphates\n",
        "        12.6, #alcohol\n",
        "])\n",
        "\n",
        "\n",
        "#turn our pretend redwine into a dataframe that is the correct dimensions\n",
        "pretend_rw = pretend_rw.T \n",
        "pretend_rw.columns = X_test.columns\n",
        "\n",
        "print(\"\\Pretend redwine details\")\n",
        "print(pretend_rw.head())\n",
        "\n",
        "print(\"Pretend redwine Class predicted\")\n",
        "print(treeClass.predict(pretend_rw))\n",
        "\n",
        "print(\"Pretend redwine probablity of guess\")\n",
        "print(treeClass.predict_proba(pretend_rw))"
      ],
      "execution_count": 21,
      "outputs": [
        {
          "output_type": "stream",
          "name": "stdout",
          "text": [
            "\\Pretend redwine details\n",
            "   fixed acidity  volatile acidity  citric acid  ...    pH  sulphates  alcohol\n",
            "0           10.3              0.32         0.45  ...  8.23       0.82     12.6\n",
            "\n",
            "[1 rows x 11 columns]\n",
            "Pretend redwine Class predicted\n",
            "[7]\n",
            "Pretend redwine probablity of guess\n",
            "[[0. 0. 0. 0. 1. 0.]]\n"
          ]
        }
      ]
    },
    {
      "cell_type": "markdown",
      "metadata": {
        "id": "8IyoKO1WxtI-"
      },
      "source": [
        "\n",
        "## Visualizing our Decision Tree\n",
        "\n",
        "We can 'visualize' the decision tree to trace through the decisions it makes. In this case we can tell that **income level** is the most important factor that we consider since we ask so many questions about that before looking at any of the other features."
      ]
    },
    {
      "cell_type": "code",
      "metadata": {
        "id": "qxPvbHujxtI-"
      },
      "source": [
        "printed_tree = export_text(treeClass, features)\n",
        "print(printed_tree)"
      ],
      "execution_count": null,
      "outputs": []
    },
    {
      "cell_type": "markdown",
      "metadata": {
        "id": "Gms5xRhlxtI-"
      },
      "source": [
        "## Tuning parameters - Testing Set Sizes\n",
        "\n",
        "To make our models run better we can tweak _many, many, many_ different parameters. For example, we can vary the testing data size percentage. We'll try some different values and plot our our accuracy of our predictions."
      ]
    },
    {
      "cell_type": "code",
      "metadata": {
        "scrolled": false,
        "id": "qzYpbcU-xtI_",
        "colab": {
          "base_uri": "https://localhost:8080/",
          "height": 279
        },
        "outputId": "a5bfd12b-f438-4ecf-9005-07084e68878d"
      },
      "source": [
        "testing_percents = [1,5,10,20,30,100]\n",
        "accuracy = []\n",
        "training_percents = []\n",
        "\n",
        "for test_ratio in testing_percents:\n",
        "    X_train, X_test, y_train, y_test = train_test_split(X, \\\n",
        "                                                        y, \\\n",
        "                                                        test_size=test_percent/100.0,\n",
        "                                                        random_state=10)\n",
        "    treeClassTest = DecisionTreeClassifier()\n",
        "    treeClassTest = treeClassTest.fit(X_train,y_train)\n",
        "    y_pred = treeClassTest.predict(X_test)\n",
        "    score = metrics.accuracy_score(y_test,y_pred)\n",
        "    accuracy.append(score)\n",
        "    training_percents.append(100 - test_ratio)\n",
        "\n",
        "    \n",
        "plt.plot(training_percents,accuracy)\n",
        "plt.ylabel(\"Accuracy in %\")\n",
        "plt.xlabel(\"Training Size %\")\n",
        "plt.show()"
      ],
      "execution_count": 30,
      "outputs": [
        {
          "output_type": "display_data",
          "data": {
            "image/png": "[encoded data removed]",
            "text/plain": [
              "<Figure size 432x288 with 1 Axes>"
            ]
          },
          "metadata": {
            "needs_background": "light"
          }
        }
      ]
    },
    {
      "cell_type": "markdown",
      "metadata": {
        "id": "u16lPsGFxtI_"
      },
      "source": [
        "(Your graph might look different, this is a statistical operation and will probably vary across different machines)"
      ]
    },
    {
      "cell_type": "markdown",
      "metadata": {
        "id": "GzrnDquFxtI_"
      },
      "source": [
        "## Tuning Parameters - Maximum depth of the tree"
      ]
    },
    {
      "cell_type": "code",
      "metadata": {
        "id": "TDxBjS-JxtI_",
        "colab": {
          "base_uri": "https://localhost:8080/",
          "height": 279
        },
        "outputId": "b44efb1d-af81-4e0d-8a6b-35d77e93d752"
      },
      "source": [
        "test_percent = 70\n",
        "max_options = [5,10,15,20,25,30]\n",
        "\n",
        "accuracy = []\n",
        "tree_max = []\n",
        "\n",
        "for max_d in max_options:\n",
        "    X_train, X_test, y_train, y_test = train_test_split(X, \\\n",
        "                                                        y, \\\n",
        "                                                        test_size=test_percent/100.0,\n",
        "                                                        random_state=10,\n",
        "                                                       )\n",
        "    \n",
        "    #We set maximum depth in the DecisionTreeClassifer when we first create the variable\n",
        "    treeClassTest = DecisionTreeClassifier(max_depth=max_d)\n",
        "    treeClassTest = treeClassTest.fit(X_train,y_train)\n",
        "    y_pred = treeClassTest.predict(X_test)\n",
        "    score = metrics.accuracy_score(y_test,y_pred)\n",
        "    accuracy.append(score)\n",
        "    tree_max.append(max_d)\n",
        "\n",
        "    \n",
        "plt.plot(max_options,accuracy)\n",
        "plt.ylabel(\"Accuracy\")\n",
        "plt.xlabel(\"Maximum Depth of Tree\")\n",
        "plt.show()"
      ],
      "execution_count": 26,
      "outputs": [
        {
          "output_type": "display_data",
          "data": {
            "image/png": "[encoded data removed]",
            "text/plain": [
              "<Figure size 432x288 with 1 Axes>"
            ]
          },
          "metadata": {
            "needs_background": "light"
          }
        }
      ]
    },
    {
      "cell_type": "markdown",
      "metadata": {
        "id": "7VWGde8VhrEX"
      },
      "source": [
        "## Using a Machine Learning Network to detect pictures"
      ]
    },
    {
      "cell_type": "code",
      "metadata": {
        "id": "4GV6Py1thb9Z"
      },
      "source": [
        "#import libraries\n",
        "import numpy as np\n",
        "import matplotlib.pyplot as plt\n",
        "import matplotlib.image as mpimg  \n",
        "import seaborn as sns\n",
        "import tensorflow as tf\n",
        "from tensorflow.python.framework import ops\n",
        "from tensorflow.examples.tutorials.mnist import input_data\n",
        "from PIL import Image\n",
        "\n",
        "# Import Fashion MNIST\n",
        "fashion_mnist = input_data.read_data_sets('input/data', \n",
        "        one_hot=True)\n",
        "\n",
        "fashion_mnist = tf.keras.datasets.fashion_mnist\n",
        "\n",
        "(train_images, train_labels), (test_images, test_labels) \\\n",
        "        = fashion_mnist.load_data()\n",
        "\n",
        "\n",
        "\n",
        "\n",
        "class_names = ['T-shirt/top', 'Trouser', \n",
        "        'Pullover', 'Dress', 'Coat', \n",
        "        'Sandal', 'Shirt', 'Sneaker', 'Bag', 'Ankle boot']\n",
        "\n",
        "\n",
        "train_images = train_images / 255.0\n",
        "\n",
        "test_images = test_images / 255.0\n",
        "\n",
        "\n",
        "# Prepare the training images\n",
        "train_images = train_images.reshape(train_images.shape[0], 28, 28, 1)\n",
        "\n",
        "# Prepare the test images\n",
        "test_images = test_images.reshape(test_images.shape[0], 28, 28, 1)\n",
        "\n",
        "\n",
        "model = tf.keras.Sequential()\n",
        "\n",
        "input_shape = (28, 28, 1)\n",
        "model.add(tf.keras.layers.Conv2D(32, kernel_size=(3, 3), activation='relu', input_shape=input_shape))\n",
        "model.add(tf.keras.layers.BatchNormalization())\n",
        "\n",
        "model.add(tf.keras.layers.Conv2D(32, kernel_size=(3, 3), activation='relu'))\n",
        "model.add(tf.keras.layers.BatchNormalization())\n",
        "model.add(tf.keras.layers.MaxPooling2D(pool_size=(2, 2)))\n",
        "model.add(tf.keras.layers.Dropout(0.25))\n",
        "\n",
        "model.add(tf.keras.layers.Conv2D(64, kernel_size=(3, 3), activation='relu'))\n",
        "model.add(tf.keras.layers.BatchNormalization())\n",
        "model.add(tf.keras.layers.Dropout(0.25))\n",
        "\n",
        "model.add(tf.keras.layers.Conv2D(128, kernel_size=(3, 3), activation='relu'))\n",
        "model.add(tf.keras.layers.BatchNormalization())\n",
        "model.add(tf.keras.layers.MaxPooling2D(pool_size=(2, 2)))\n",
        "model.add(tf.keras.layers.Dropout(0.25))\n",
        "\n",
        "model.add(tf.keras.layers.Flatten())\n",
        "\n",
        "model.add(tf.keras.layers.Dense(512, activation='relu'))\n",
        "model.add(tf.keras.layers.BatchNormalization())\n",
        "model.add(tf.keras.layers.Dropout(0.5))\n",
        "\n",
        "model.add(tf.keras.layers.Dense(128, activation='relu'))\n",
        "model.add(tf.keras.layers.BatchNormalization())\n",
        "model.add(tf.keras.layers.Dropout(0.5))\n",
        "\n",
        "model.add(tf.keras.layers.Dense(10, activation='softmax'))\n",
        "\n",
        "\n",
        "model.compile(optimizer=tf.train.AdamOptimizer(), \n",
        "                      loss='sparse_categorical_crossentropy',\n",
        "                                    metrics=['accuracy'])\n",
        "\n",
        "\n",
        "model.fit(train_images, train_labels, epochs=5)\n",
        "\n",
        "# test with 10,000 images\n",
        "test_loss, test_acc = model.evaluate(test_images, test_labels)\n",
        "\n",
        "print('10,000 image Test accuracy:', test_acc)\n",
        "\n",
        "#run test image from Fashion_MNIST data \n",
        "\n",
        "img = test_images[15]\n",
        "img = (np.expand_dims(img,0))\n",
        "singlePrediction = model.predict(img,steps=1)\n",
        "print (\"Prediction Output\")\n",
        "print(singlePrediction)\n",
        "print()\n",
        "NumberElement = singlePrediction.argmax()\n",
        "Element = np.amax(singlePrediction)\n",
        "\n",
        "print (\"Our Network has concluded that the image number '15' is a \"\n",
        "        +class_names[NumberElement])\n",
        "print (str(int(Element*100)) + \"% Confidence Level\")\n",
        "\n"
      ],
      "execution_count": null,
      "outputs": []
    },
    {
      "cell_type": "markdown",
      "metadata": {
        "id": "sK1lUYn0H_UL"
      },
      "source": [
        "## Introduction to Neural Networks"
      ]
    },
    {
      "cell_type": "code",
      "metadata": {
        "id": "gvrhdWblA4Hv"
      },
      "source": [
        "# 2 Layer Neural Network in NumPy\n",
        "\n",
        "import numpy as np\n",
        "\n",
        "# X = input of our 3 input XOR gate\n",
        "# set up the inputs of the neural network (right from the table)\n",
        "X = np.array(([0,0,0],[0,0,1],[0,1,0], \\\n",
        "    [0,1,1],[1,0,0],[1,0,1],[1,1,0],[1,1,1]), dtype=float)\n",
        "# y = our output of our neural network\n",
        "y = np.array(([1], [0],  [0],  [0],  [0], \\\n",
        "     [0],  [0],  [1]), dtype=float)\n",
        "\n",
        "# what value we want to predict\n",
        "xPredicted = np.array(([0,0,1]), dtype=float)\n",
        "\n",
        "X = X/np.amax(X, axis=0) # maximum of X input array\n",
        "# maximum of xPredicted (our input data for the prediction)\n",
        "xPredicted = xPredicted/np.amax(xPredicted, axis=0) \n",
        "\n",
        "# set up our Loss file for graphing\n",
        "\n",
        "lossFile = open(\"SumSquaredLossList.csv\", \"w\")\n",
        "\n",
        "class Neural_Network (object):\n",
        "  def __init__(self):\n",
        "    #parameters\n",
        "    self.inputLayerSize = 3  # X1,X2,X3 \n",
        "    self.outputLayerSize = 1 # Y1\n",
        "    self.hiddenLayerSize = 4 # Size of the hidden layer\n",
        "\n",
        "    # build weights of each layer\n",
        "    # set to random values\n",
        "    # look at the interconnection diagram to make sense of this\n",
        "    # 3x4 matrix for input to hidden\n",
        "    self.W1 = \\\n",
        "            np.random.randn(self.inputLayerSize, self.hiddenLayerSize) \n",
        "    # 4x1 matrix for hidden layer to output\n",
        "    self.W2 = \\\n",
        "            np.random.randn(self.hiddenLayerSize, self.outputLayerSize) \n",
        "\n",
        "  def feedForward(self, X):\n",
        "    # feedForward propagation through our network\n",
        "    # dot product of X (input) and first set of 3x4  weights\n",
        "    self.z = np.dot(X, self.W1) \n",
        "\n",
        "    # the activationSigmoid activation function - neural magic\n",
        "    self.z2 = self.activationSigmoid(self.z) \n",
        "\n",
        "    # dot product of hidden layer (z2) and second set of 4x1 weights\n",
        "    self.z3 = np.dot(self.z2, self.W2) \n",
        "\n",
        "    # final activation function - more neural magic\n",
        "    o = self.activationSigmoid(self.z3) \n",
        "    return o\n",
        "\n",
        "  def backwardPropagate(self, X, y, o):\n",
        "    # backward propagate through the network\n",
        "    # calculate the error in output\n",
        "    self.o_error = y - o \n",
        "\n",
        "    # apply derivative of activationSigmoid to error\n",
        "    self.o_delta = self.o_error*self.activationSigmoidPrime(o) \n",
        "\n",
        "    # z2 error: how much our hidden layer weights contributed to output error\n",
        "    self.z2_error = self.o_delta.dot(self.W2.T) \n",
        "\n",
        "    # applying derivative of activationSigmoid to z2 error\n",
        "    self.z2_delta = self.z2_error*self.activationSigmoidPrime(self.z2) \n",
        "\n",
        "    # adjusting first set (inputLayer --> hiddenLayer) weights\n",
        "    self.W1 += X.T.dot(self.z2_delta) \n",
        "    # adjusting second set (hiddenLayer --> outputLayer) weights \n",
        "    self.W2 += self.z2.T.dot(self.o_delta) \n",
        "\n",
        "  def trainNetwork(self, X, y):\n",
        "    # feed forward the loop\n",
        "    o = self.feedForward(X)\n",
        "    # and then back propagate the values (feedback)\n",
        "    self.backwardPropagate(X, y, o)\n",
        "\n",
        "\n",
        "  def activationSigmoid(self, s):\n",
        "    # activation function\n",
        "    # simple activationSigmoid curve as in the book\n",
        "    return 1/(1+np.exp(-s))\n",
        "\n",
        "  def activationSigmoidPrime(self, s):\n",
        "    # First derivative of activationSigmoid\n",
        "    # calculus time!\n",
        "    return s * (1 - s)\n",
        "\n",
        "\n",
        "  def saveSumSquaredLossList(self,i,error):\n",
        "    lossFile.write(str(i)+\",\"+str(error.tolist())+'\\n')\n",
        "    \n",
        "  def saveWeights(self):\n",
        "    # save this in order to reproduce our cool network\n",
        "    np.savetxt(\"weightsLayer1.txt\", self.W1, fmt=\"%s\")\n",
        "    np.savetxt(\"weightsLayer2.txt\", self.W2, fmt=\"%s\")\n",
        "\n",
        "  def predictOutput(self):\n",
        "    print (\"Predicted XOR output data based on trained weights: \")\n",
        "    print (\"Expected (X1-X3): \\n\" + str(xPredicted))\n",
        "    print (\"Output (Y1): \\n\" + str(self.feedForward(xPredicted)))\n",
        "\n",
        "myNeuralNetwork = Neural_Network()\n",
        "trainingEpochs = 1000\n",
        "#trainingEpochs = 100000\n",
        "\n",
        "for i in range(trainingEpochs): # train myNeuralNetwork 1,000 times\n",
        "  print (\"Epoch # \" + str(i) + \"\\n\")\n",
        "  print (\"Network Input : \\n\" + str(X))\n",
        "  print (\"Expected Output of XOR Gate Neural Network: \\n\" + str(y))\n",
        "  print (\"Actual  Output from XOR Gate Neural Network: \\n\" + \\\n",
        "          str(myNeuralNetwork.feedForward(X)))\n",
        "  # mean sum squared loss\n",
        "  Loss = np.mean(np.square(y - myNeuralNetwork.feedForward(X))) \n",
        "  myNeuralNetwork.saveSumSquaredLossList(i,Loss)\n",
        "  print (\"Sum Squared Loss: \\n\" + str(Loss))\n",
        "  print (\"\\n\")\n",
        "  myNeuralNetwork.trainNetwork(X, y)\n",
        "\n",
        "myNeuralNetwork.saveWeights()\n",
        "myNeuralNetwork.predictOutput()\n"
      ],
      "execution_count": null,
      "outputs": []
    },
    {
      "cell_type": "markdown",
      "metadata": {
        "id": "_z1rDa_yxtJD"
      },
      "source": [
        "## Congrats!\n",
        "\n",
        "We have just scratched the surface with what is possible with Python and SciKit. Remember, don't let the name **Machine Learning** fool you. Most of the time the computer is making guesses based on past data. Sometimes this works good, sometimes it doesn't work so good!"
      ]
    }
  ]
}