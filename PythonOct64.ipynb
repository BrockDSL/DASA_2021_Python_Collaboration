{
  "nbformat": 4,
  "nbformat_minor": 0,
  "metadata": {
    "kernelspec": {
      "display_name": "Python 3",
      "language": "python",
      "name": "python3"
    },
    "language_info": {
      "codemirror_mode": {
        "name": "ipython",
        "version": 3
      },
      "file_extension": ".py",
      "mimetype": "text/x-python",
      "name": "python",
      "nbconvert_exporter": "python",
      "pygments_lexer": "ipython3",
      "version": "3.7.3"
    },
    "colab": {
      "name": "Copy of PythonOct64.ipynb",
      "provenance": [],
      "collapsed_sections": []
    }
  },
  "cells": [
    {
      "cell_type": "markdown",
      "metadata": {
        "id": "k06tAaKAx5q9"
      },
      "source": [
        "![DSL_logo](https://github.com/BrockDSL/Intro_to_Python_Workshop/blob/master/dsl_logo.png?raw=1) \n",
        "\n",
        "\n",
        "# Data Science with Python!\n",
        "\n",
        "Welcome to the Digital Scholarship Lab Level 3 Python workshop. \n",
        "\n",
        "In Python 2.0, we learned about the Pandas library\n",
        "\n",
        "What we'll learn today is:\n",
        "- plotting data with matplotlib\n",
        "- Creating correlational graphs with Seaborn\n",
        "\n",
        "We'll be using Python as a Data Analysis tool"
      ]
    },
    {
      "cell_type": "markdown",
      "metadata": {
        "id": "7QzL9fbrm5MT"
      },
      "source": [
        "# Another Library, MatplotLib\n",
        "\n",
        "Let's take a look at graphing our results. We can use the `matplotlib` library to generate some graphs of our results. We always gives lists as parameters for the graphs"
      ]
    },
    {
      "cell_type": "markdown",
      "metadata": {
        "id": "1LKh3ghnm5MU"
      },
      "source": [
        "First, import pandas library "
      ]
    },
    {
      "cell_type": "code",
      "metadata": {
        "id": "iyhhjySkm5MU"
      },
      "source": [
        "#Load the Library Pandas, that works with data\n",
        "import pandas as pd"
      ],
      "execution_count": null,
      "outputs": []
    },
    {
      "cell_type": "code",
      "metadata": {
        "id": "uILyewA-m5MW"
      },
      "source": [
        "#This line is for Jupyter's benefit\n",
        "%matplotlib inline\n",
        "#Import MayPlotLib to graph some results\n",
        "import matplotlib.pyplot as plt"
      ],
      "execution_count": null,
      "outputs": []
    },
    {
      "cell_type": "markdown",
      "metadata": {
        "id": "vsck_Y5Wm5MX"
      },
      "source": [
        "Let's reload our data into a new dataframe"
      ]
    },
    {
      "cell_type": "code",
      "metadata": {
        "id": "9MYy9hrDm5MX"
      },
      "source": [
        "#Load the file\n",
        "graph_data = pd.read_csv('https://archive.ics.uci.edu/ml/machine-learning-databases/wine-quality/winequality-red.csv', sep=';')\n",
        "\n",
        "#Tell it what our columns are\n",
        "graph_data.columns = [\"fixed acidity\",\"volatile acidity\",\"citric acid\",\"residual sugar\",\"chlorides\",\"free sulfur dioxide\",\"total sulfur dioxide\",\"density\",\"pH\",\"sulphates\",\"alcohol\",\"quality\"]\n"
      ],
      "execution_count": null,
      "outputs": []
    },
    {
      "cell_type": "markdown",
      "metadata": {
        "id": "T9wgXnaom5MY"
      },
      "source": [
        "## Pie Graphs\n",
        "Let's draw a pie graph of the number of wine samples that were rated a quality less than 5 versus wine that was rated greater than 5."
      ]
    },
    {
      "cell_type": "code",
      "metadata": {
        "id": "-9tvHA0Zm5MZ"
      },
      "source": [
        "#All of the Poor Quality Wine\n",
        "Total_LessThan5 = graph_data[graph_data[\"quality\"] < 5][\"quality\"].count()\n",
        "print(\"Poor Quality Wine: \" + str(Total_LessThan5))\n",
        "\n",
        "#All the Good Quality Wine\n",
        "Total_GreaterThan5 = graph_data[graph_data['quality'] > 5][\"quality\"].count()\n",
        "print(\"Good Quality Wine: \"+ str(Total_GreaterThan5))\n",
        "\n",
        "#All the wine with a wine quality of 5\n",
        "Total_EqualTo5 = graph_data[graph_data[\"quality\"] == 5][\"quality\"].count()\n",
        "print(\"Medium Quality Wine: \"+ str(Total_EqualTo5))\n",
        "\n",
        "# Matplot lib always wants data in a list, so we'll make one\n",
        "pie_data = [Total_LessThan5,Total_EqualTo5,Total_GreaterThan5]\n",
        "pie_labels = [\"LessThan5\", \"TotalEqualTo5\", \"GreaterThan5\"]\n",
        "plt.pie(pie_data,labels=pie_labels, colors=('red','black','grey'))\n",
        "\n",
        "plt.show()"
      ],
      "execution_count": null,
      "outputs": []
    },
    {
      "cell_type": "markdown",
      "metadata": {
        "id": "ewYPRQKEm5Ma"
      },
      "source": [
        "### How to create a donut chart"
      ]
    },
    {
      "cell_type": "code",
      "metadata": {
        "id": "aHRcLmnum5Mb"
      },
      "source": [
        "#All of the Poor Quality Wine\n",
        "Total_LessThan5 = graph_data[graph_data[\"quality\"] < 5][\"quality\"].count()\n",
        "print(\"Poor Quality Wine: \" + str(Total_LessThan5))\n",
        "\n",
        "#All the Good Quality Wine\n",
        "Total_GreaterThan5 = graph_data[graph_data['quality'] > 5][\"quality\"].count()\n",
        "print(\"Good Quality Wine: \"+ str(Total_GreaterThan5))\n",
        "\n",
        "#All the wine with a wine quality of 5\n",
        "Total_EqualTo5 = graph_data[graph_data[\"quality\"] == 5][\"quality\"].count()\n",
        "print(\"Medium Quality Wine: \"+ str(Total_EqualTo5))\n",
        "\n",
        "# Matplot lib always wants data in a list, so we'll make one\n",
        "pie_data = [Total_LessThan5,Total_EqualTo5,Total_GreaterThan5]\n",
        "pie_labels = [\"LessThan5\", \"TotalEqualTo5\", \"GreaterThan5\"]\n",
        "plt.pie(pie_data,labels=pie_labels)\n",
        "\n",
        "# Add a circle to create a hole in the pie chart\n",
        "centre_circle = plt.Circle((0, 0), 0.70, fc='white')\n",
        "fig = plt.gcf()\n",
        "fig.gca().add_artist(centre_circle)\n",
        "\n",
        "\n",
        "plt.show()"
      ],
      "execution_count": null,
      "outputs": []
    },
    {
      "cell_type": "markdown",
      "metadata": {
        "id": "6LHPinCVm5Mc"
      },
      "source": [
        "Try questions Q1  - Q2 and type \"Completed\" in the chat when you're done."
      ]
    },
    {
      "cell_type": "markdown",
      "metadata": {
        "id": "t1wrVAemm5Mc"
      },
      "source": [
        "- **Q1** Can you create a pie graph that shows the citric acid distribution in the data? You just need to modify line 2 & 6"
      ]
    },
    {
      "cell_type": "code",
      "metadata": {
        "id": "EkCo37Rmm5Md"
      },
      "source": [
        "#Fill in the following\n",
        "CitricAcidEqualto0 = graph_data[graph_data[\"ChangeMe\"] == 0][\"ChangeMe\"].count()\n",
        "print(\"Citric Acid Equal To 0: \"+ str(CitricAcidEqualto0))\n",
        "\n",
        "#Fill in the following\n",
        "CitricAcidGreaterthan0 = graph_data[graph_data[\"ChangeMe\"] > 0 ][\"ChangeMe\"].count()\n",
        "print(\"Citric Acid Greater than 0: \"+ str(CitricAcidGreaterthan0))\n",
        "\n",
        "pie_data = [CitricAcidEqualto0,CitricAcidGreaterthan0]\n",
        "pie_labels = [\"CitricAcidEqualto0\",\"CitricAcidGreaterThan0\"]\n",
        "plt.pie(pie_data,labels=pie_labels)\n",
        "\n",
        "plt.show()"
      ],
      "execution_count": null,
      "outputs": []
    },
    {
      "cell_type": "markdown",
      "metadata": {
        "id": "CbxuFnmjm5Me"
      },
      "source": [
        "- **Q2** Can you create a donut chart that shows the how many red wine samples in the dataset have a fixed acidity level over 10, under 10, and equal to 10? You just need to modify line 2, 6 & 9, as well as copy and paste the code for the circle in the middle."
      ]
    },
    {
      "cell_type": "code",
      "metadata": {
        "id": "KCf8lVYQm5Me"
      },
      "source": [
        "#Fill in the following\n",
        "over_10 = graph_data[graph_data[\"ChangeMe\"] > 10][\"ChangeMe\"].count() \n",
        "print(\"Fixed Acidity greater than 10: \"+ str(over_10))\n",
        "\n",
        "#Fill in the following\n",
        "under_10 = graph_data[graph_data[\"ChangeMe\"] < 10][\"ChangeMe\"].count()\n",
        "print(\"Fixed Acidity less than 10: \"+ str(under_10))\n",
        "\n",
        "equalto_10 = graph_data[graph_data[\"ChangeMe\"] == 10][\"ChangeMe\"].count()\n",
        "print(\"Fixed Acidity equal to 10: \"+ str(equalto_10))\n",
        "\n",
        "pie_data = [over_10, under_10, equalto_10]\n",
        "pie_labels = [\"Over 10\",\"Under 10\",\"equal to 10\"]\n",
        "plt.pie(pie_data,labels=pie_labels, colors = (\"red\", \"pink\", \"blue\"))\n",
        " \n",
        "#Copy and paste the code that creates the circle in the middle\n",
        "\n",
        "\n",
        "\n",
        "plt.show()"
      ],
      "execution_count": null,
      "outputs": []
    },
    {
      "cell_type": "markdown",
      "metadata": {
        "id": "LJS-5Auhm5Me"
      },
      "source": [
        "## Automatic Histograms\n",
        "\n",
        "\n",
        "Say we wanted to plot out the alcohol distribution of our data set as a [histogram](https://en.wikipedia.org/wiki/Histogram) "
      ]
    },
    {
      "cell_type": "code",
      "metadata": {
        "id": "4nNPfK6Hm5Me"
      },
      "source": [
        "# bins is the number of containers we'll split our x-axis values into\n",
        "bins = 6\n",
        "\n",
        "plt.hist(graph_data[\"alcohol\"],bins, color=('red'), alpha=(0.9), hatch=\"x\", edgecolor='white')\n",
        "\n",
        "plt.title(\"Alcohol distribution\", color=(0.2,0.6,0.4,0.6), size=30)\n",
        "plt.xlabel(\"Alcohol Amount\", size=20)\n",
        "plt.ylabel(\"Occurrences\", size=20)\n",
        "\n",
        "#Set Background colour\n",
        "plt.gca().set_facecolor('lightblue')\n",
        "plt.gca().set_axis_on()\n",
        "\n",
        "#Change the color of the x and y values\n",
        "ax = plt.gca()\n",
        "ax.tick_params(axis='x', colors='brown')\n",
        "ax.tick_params(axis='y', colors='green')\n",
        "\n",
        "plt.show()"
      ],
      "execution_count": null,
      "outputs": []
    },
    {
      "cell_type": "markdown",
      "metadata": {
        "id": "6QQccsi6m5Mf"
      },
      "source": [
        "Try Q3 below and type \"All done!\" in the chat when you're done"
      ]
    },
    {
      "cell_type": "markdown",
      "metadata": {
        "id": "hS1xzNrmm5Mf"
      },
      "source": [
        "**Q3** Can you draw a histogram of the `pH` distribution? Make sure to give it the axes good descriptions. You just need to modify line 1,5, & 6. (The example above should help you)"
      ]
    },
    {
      "cell_type": "code",
      "metadata": {
        "id": "9QRKCgH-m5Mg"
      },
      "source": [
        "bins = #FILL\n",
        "\n",
        "plt.hist(graph_data[\"pH\"],bins) \n",
        "plt.title(\"pH Distribution\")\n",
        "plt.xlabel(\"change me\") #FILL\n",
        "plt.ylabel(\"change me\") #FILL\n",
        "\n",
        "plt.show()"
      ],
      "execution_count": null,
      "outputs": []
    },
    {
      "cell_type": "markdown",
      "metadata": {
        "id": "f3nj_KHNm5Mg"
      },
      "source": [
        "### How to create a Venn Diagram\n",
        "\n",
        "First, install the venn diagram from matplotlib"
      ]
    },
    {
      "cell_type": "code",
      "metadata": {
        "id": "3qqMxQ7Gm5Mg"
      },
      "source": [
        "pip install matplotlib-venn "
      ],
      "execution_count": null,
      "outputs": []
    },
    {
      "cell_type": "markdown",
      "metadata": {
        "id": "s0VJ3CL-m5Mg"
      },
      "source": [
        "Next, import the venn diagram from Matplotlib, and enter the values and names"
      ]
    },
    {
      "cell_type": "code",
      "metadata": {
        "id": "KK71DxpDm5Mh"
      },
      "source": [
        "from matplotlib_venn import venn2\n",
        " \n",
        "# depict venn diagram\n",
        "v = venn2(subsets = (7,50,10), set_colors = (\"green\", \"red\"), set_labels = ('MatPlotLib', 'Seaborn'))\n",
        "\n",
        "# Optional Step that sets the title, font, and size\n",
        "plt.title(\"Similarities and Differences between MatPlotLib and Seaborn\", color=(0.2,0.1,0.4,0.6), size=20)\n",
        "\n",
        "# Optional step that allows you to add texture to a circle\n",
        "p = v.get_patch_by_id('11')\n",
        "p.set_hatch('//')\n",
        "p.set_edgecolor('black')\n",
        "\n",
        "p = v.get_patch_by_id('10')\n",
        "p.set_hatch('*')\n",
        "p.set_edgecolor('blue')\n",
        "\n",
        "#Optional step that sets the background color\n",
        "plt.gca().set_facecolor('grey')\n",
        "plt.gca().set_axis_on()\n",
        "\n",
        "plt.show()"
      ],
      "execution_count": null,
      "outputs": []
    },
    {
      "cell_type": "markdown",
      "metadata": {
        "id": "BVgu_oHQm5Mh"
      },
      "source": [
        "Try question 4 and type finished in the chat when you are done."
      ]
    },
    {
      "cell_type": "markdown",
      "metadata": {
        "id": "hVkVBfg2m5Mh"
      },
      "source": [
        "**Q4** Create a venn diagram that visualizes these variables we created earlier in the pie chart example: \n",
        "- Total_LessThan5\n",
        "- Total_GreaterThan5\n",
        "- Total_EqualTo5"
      ]
    },
    {
      "cell_type": "code",
      "metadata": {
        "id": "bwZUBsPam5Mh"
      },
      "source": [
        "venn2(subsets = (ChangeMe,ChangeMe,ChangeMe), set_labels = ('ChangeMe', 'ChangeMe'))"
      ],
      "execution_count": null,
      "outputs": []
    },
    {
      "cell_type": "markdown",
      "metadata": {
        "id": "jh_y1e64m5Mi"
      },
      "source": [
        "## Another Library: Seaborn\n",
        "\n",
        "Seaborn can do the same charts as Matplotlib, along with correlational charts that visualize correlations between variables.\n",
        "\n",
        "Install Seaborn"
      ]
    },
    {
      "cell_type": "code",
      "metadata": {
        "id": "DPsSd1zwm5Mi",
        "colab": {
          "base_uri": "https://localhost:8080/"
        },
        "outputId": "70adbfa1-d50c-4146-9c4e-7d49f797ae98"
      },
      "source": [
        "pip install seaborn"
      ],
      "execution_count": null,
      "outputs": [
        {
          "output_type": "stream",
          "name": "stdout",
          "text": [
            "Requirement already satisfied: seaborn in /usr/local/lib/python3.7/dist-packages (0.11.2)\n",
            "Requirement already satisfied: scipy>=1.0 in /usr/local/lib/python3.7/dist-packages (from seaborn) (1.4.1)\n",
            "Requirement already satisfied: matplotlib>=2.2 in /usr/local/lib/python3.7/dist-packages (from seaborn) (3.2.2)\n",
            "Requirement already satisfied: pandas>=0.23 in /usr/local/lib/python3.7/dist-packages (from seaborn) (1.1.5)\n",
            "Requirement already satisfied: numpy>=1.15 in /usr/local/lib/python3.7/dist-packages (from seaborn) (1.19.5)\n",
            "Requirement already satisfied: pyparsing!=2.0.4,!=2.1.2,!=2.1.6,>=2.0.1 in /usr/local/lib/python3.7/dist-packages (from matplotlib>=2.2->seaborn) (2.4.7)\n",
            "Requirement already satisfied: cycler>=0.10 in /usr/local/lib/python3.7/dist-packages (from matplotlib>=2.2->seaborn) (0.10.0)\n",
            "Requirement already satisfied: kiwisolver>=1.0.1 in /usr/local/lib/python3.7/dist-packages (from matplotlib>=2.2->seaborn) (1.3.2)\n",
            "Requirement already satisfied: python-dateutil>=2.1 in /usr/local/lib/python3.7/dist-packages (from matplotlib>=2.2->seaborn) (2.8.2)\n",
            "Requirement already satisfied: six in /usr/local/lib/python3.7/dist-packages (from cycler>=0.10->matplotlib>=2.2->seaborn) (1.15.0)\n",
            "Requirement already satisfied: pytz>=2017.2 in /usr/local/lib/python3.7/dist-packages (from pandas>=0.23->seaborn) (2018.9)\n"
          ]
        }
      ]
    },
    {
      "cell_type": "markdown",
      "metadata": {
        "id": "l5PGxkNRm5Ml"
      },
      "source": [
        "Import Seaborn library, and ensure that numpy, matplotlib, and pandas are also imported"
      ]
    },
    {
      "cell_type": "code",
      "metadata": {
        "id": "4O8_yH_tm5Ml"
      },
      "source": [
        "import numpy as np \n",
        "import matplotlib.pyplot as plt\n",
        "import pandas as pd \n",
        "import seaborn as sns "
      ],
      "execution_count": null,
      "outputs": []
    },
    {
      "cell_type": "markdown",
      "metadata": {
        "id": "NZ526T49m5Ml"
      },
      "source": [
        "Create a visual graph showing the correlation between each wine property "
      ]
    },
    {
      "cell_type": "code",
      "metadata": {
        "id": "bqxXTrE7m5Ml"
      },
      "source": [
        "#Import the red wine data, and use df as the variable name.\n",
        "df = pd.read_csv('https://archive.ics.uci.edu/ml/machine-learning-databases/wine-quality/winequality-red.csv', sep=';') \n",
        "\n",
        "#Set the size of the chart\n",
        "f, ax = plt.subplots(figsize=(10, 8)) \n",
        "\n",
        "#Create a variable representing the dataframe and the correlation function, to produce the results as a list\n",
        "corr=df.corr() \n",
        "\n",
        "#Prints the variable created above in list form before the actual chart.\n",
        "print(corr)\n",
        "\n",
        "#Create the heatmap chart\n",
        "sns.heatmap(corr,annot=True, mask=np.zeros_like(corr, dtype=bool), \n",
        "        cmap=sns.diverging_palette(899, 87, as_cmap=True), \n",
        "                    square=True, ax=ax) \n",
        "\n",
        "#Create a title for the chart\n",
        "ax.set_title(\"Red Wine Samples\")\n",
        "\n",
        "plt.show()"
      ],
      "execution_count": null,
      "outputs": []
    },
    {
      "cell_type": "markdown",
      "metadata": {
        "id": "CIyo4-mTm5Mm"
      },
      "source": [
        "A similar way of writing the code, along with slanted labels"
      ]
    },
    {
      "cell_type": "code",
      "metadata": {
        "id": "-MV6Molcm5Mm"
      },
      "source": [
        "corr = df.corr()\n",
        "ax = sns.heatmap(\n",
        "    corr, \n",
        "    vmin=-1, vmax=1, center=0,\n",
        "    cmap=sns.diverging_palette(20, 220, n=200),\n",
        "    square=True\n",
        ")\n",
        "#Set the x-axis labels to be written on a slant.\n",
        "ax.set_xticklabels(\n",
        "    ax.get_xticklabels(),\n",
        "    rotation=35,\n",
        "    horizontalalignment='right'\n",
        ");"
      ],
      "execution_count": null,
      "outputs": []
    },
    {
      "cell_type": "markdown",
      "metadata": {
        "id": "vbhQN92sm5Mm"
      },
      "source": [
        "**Q5** Create the same graph for the white wine samples. Just display the graph, with the co-efficients written on each colored square, not the list of correlations. Present the horizontal axis labels straight. "
      ]
    },
    {
      "cell_type": "code",
      "metadata": {
        "id": "fliGdraVm5Mm"
      },
      "source": [
        "#Alter the web address to import the white wine samples, by changing red to white. \n",
        "df2 = pd.read_csv('https://archive.ics.uci.edu/ml/machine-learning-databases/wine-quality/winequality-red.csv', sep=';')\n",
        "\n",
        "#Set the size of your graph\n",
        "f, ax = plt.subplots(figsize=(10, 8))\n",
        "\n",
        "#Alter the code so that it creates a heatmap for the white wine dataset, and change the annot to display the coefficients on the chart\n",
        "corr = ChangeMe.corr()\n",
        "ax = sns.heatmap(\n",
        "    corr,annot=ChangeMe, \n",
        "    vmin=-1, vmax=1, center=0,\n",
        "    cmap=sns.diverging_palette(20, 220, n=200),\n",
        "    square=True)"
      ],
      "execution_count": null,
      "outputs": []
    },
    {
      "cell_type": "markdown",
      "metadata": {
        "id": "8ubhovi7m5Mn"
      },
      "source": [
        "#### Create a Seaborn joint plot to show the relationship between two variables: \"fixed acidity\" and \"citric acid\"\n",
        "\n",
        "First, list the column names"
      ]
    },
    {
      "cell_type": "code",
      "metadata": {
        "id": "clC0HuGim5Mn"
      },
      "source": [
        "df.columns = [\"fixed acidity\",\"volatile acidity\",\"citric acid\",\"residual sugar\",\"chlorides\",\"free sulfur dioxide\",\"total sulfur dioxide\",\"density\",\"pH\",\"sulphates\",\"alcohol\",\"quality\"] "
      ],
      "execution_count": null,
      "outputs": []
    },
    {
      "cell_type": "code",
      "metadata": {
        "id": "jeSrgQ7Em5Mn"
      },
      "source": [
        "#set up the joint plot\n",
        "sns.jointplot(x=\"fixed acidity\", y=\"citric acid\", data=df, kind=\"reg\", color=\"cyan\");\n",
        "\n",
        "#Create an arrow shape and a label to point at the chart\n",
        "plt.annotate('Notice something?', xy=(9, 1.002), xytext=(4, 1.004), arrowprops={'facecolor':'grey', 'shrink':0.05})"
      ],
      "execution_count": null,
      "outputs": []
    },
    {
      "cell_type": "markdown",
      "metadata": {
        "id": "HJJp4gC7m5Mn"
      },
      "source": [
        "**Q6** Create a Seaborn joint plot to show the relationship between fixed acidity and pH"
      ]
    },
    {
      "cell_type": "code",
      "metadata": {
        "id": "p6OSr81Cm5Mn"
      },
      "source": [
        "#set up the joint plot\n"
      ],
      "execution_count": null,
      "outputs": []
    },
    {
      "cell_type": "markdown",
      "metadata": {
        "id": "fpyJGk8tm5Mn"
      },
      "source": [
        "### Violin Chart\n",
        "\n",
        "Compares the distributions of two variables side by side"
      ]
    },
    {
      "cell_type": "markdown",
      "metadata": {
        "id": "b0DJ-uYAm5Mo"
      },
      "source": [
        "Create a violin plot to compare distribution between two variables"
      ]
    },
    {
      "cell_type": "code",
      "metadata": {
        "id": "YGcZhqD2m5Mo"
      },
      "source": [
        "#Create a violin chart\n",
        "sns.violinplot(\"quality\", \"pH\", data=df,\n",
        "               palette=[\"teal\", \"lightblue\", \"beige\", \"lightgrey\", \"lightgreen\"]);\n",
        "\n",
        "#Create a title\n",
        "plt.title('Comparing the Distribution of Quality and pH')\n"
      ],
      "execution_count": null,
      "outputs": []
    },
    {
      "cell_type": "markdown",
      "metadata": {
        "id": "LYF8nF7em5Mo"
      },
      "source": [
        "**Q7** Create a violin plot to compare the distribution between quality and total sulfur dioxide"
      ]
    },
    {
      "cell_type": "code",
      "metadata": {
        "id": "E7SXLAeOm5Mo"
      },
      "source": [
        "#Create a violin chart\n"
      ],
      "execution_count": null,
      "outputs": []
    },
    {
      "cell_type": "markdown",
      "metadata": {
        "id": "Gc19zwr9m5Mp"
      },
      "source": [
        "# Practice Writing SQL queries online\n",
        "\n",
        "Go to: [bit.io](https://bit.io/laritzrp/WineSamples)\n",
        "\n",
        "Once you're done, type finished in the chatbox."
      ]
    },
    {
      "cell_type": "markdown",
      "metadata": {
        "id": "N7Sd7pN8m5Mp"
      },
      "source": [
        "Example 1: Calculate the total number of redwine samples.\n",
        "\n",
        "Solution - In the query editor, type the following:\n",
        "```\n",
        "SELECT count(redwine.quality) \n",
        "FROM \"laritzrp/WineSamples\".\"redwine\"; \n",
        "```\n",
        "The query result shows that there are 1599 redwine samples.\n"
      ]
    },
    {
      "cell_type": "markdown",
      "metadata": {
        "id": "X2_6m5Vsm5Mp"
      },
      "source": [
        "**Q8** Copy and paste this template into the query editor. Modify the code to find the total number of white wine samples.\n",
        "```\n",
        "SELECT count(redwine.quality) \n",
        "FROM \"laritzrp/WineSamples\".\"redwine\"; \n",
        "```"
      ]
    },
    {
      "cell_type": "markdown",
      "metadata": {
        "id": "Fy3hUDAam5Mp"
      },
      "source": [
        "**Q9** Copy and paste this template into the query editor. Modify the code to find the min and max pH amounts for the red wine samples\n",
        "```\n",
        "SELECT min(redwine.alcohol) AS \"Minimum Alcohol Amount\", max(redwine.alcohol) AS \"Maximum Alcohol Amount\"\n",
        "FROM \"laritzrp/WineSamples\".\"redwine\";\n",
        "```"
      ]
    },
    {
      "cell_type": "markdown",
      "metadata": {
        "id": "zpRMi05Zm5Mq"
      },
      "source": [
        "#### Using the Groupby and Having statement, and sorting in ascending or descending order\n",
        "\n",
        "Find the average red wine quality amounts for each different alcohol level found in the dataset. Only display the averages for alcohol amounts greater than or equal to 13. Order the values by alcohol amounts, in ascending order.\n",
        "```\n",
        "SELECT (redwine.alcohol) AS \"Alcohol Amount\", count(redwine.alcohol) AS \"Number of Red Wine Samples\", avg(redwine.quality) AS \"AVG of Quality\" FROM \"laritzrp/WineSamples\".\"redwine\" \n",
        "Group by redwine.alcohol, redwine.alcohol HAVING ((redwine.alcohol)>=13) \n",
        "Order By (redwine.alcohol) ASC;\n",
        "```"
      ]
    },
    {
      "cell_type": "markdown",
      "metadata": {
        "id": "tpYbBtkHm5Mq"
      },
      "source": [
        "**Q10** Copy and paste this template into the query editor. Modify the code to find the total number of \"free sulfur dioxide\" levels greater than or equal to 30. Show the results in descending order. \n",
        "```\n",
        "SELECT (redwine.alcohol) AS \"Alcohol Amount\", count(redwine.alcohol) AS \"Number of Red Wine Samples\", avg(redwine.quality) AS \"AVG of Quality\"\n",
        "FROM \"laritzrp/WineSamples\".\"redwine\" \n",
        "Group by redwine.alcohol, redwine.alcohol\n",
        "HAVING ((redwine.alcohol)>=13)\n",
        "Order By (redwine.alcohol) ASC;\n",
        "```"
      ]
    },
    {
      "cell_type": "markdown",
      "metadata": {
        "id": "SVc19fj_BolR"
      },
      "source": [
        "Example using the WHERE statement\n",
        "\n",
        "List all of the citric acid amounts for the red wine samples rated a quality level of 8.\n",
        "\n",
        "```\n",
        "SELECT (redwine.\"citric acid\") \n",
        "FROM \"laritzrp/WineSamples\".\"redwine\"\n",
        "WHERE ((redwine.quality)=8); \n",
        "```\n",
        "Selecting data from numberous tables:\n",
        "\n",
        "From the same column\n",
        "\n",
        "List the quality levels for both the red and white wine samples\n",
        "```\n",
        "SELECT (redwine.quality) AS \"red wine Quality\", (whitewine.quality) AS \"White Wine Quality\"\n",
        "FROM \"laritzrp/WineSamples\".\"redwine\", \"laritzrp/WineSamples\".\"whitewine\";  \n",
        "```\n",
        "From different columns\n",
        "\n",
        "List the citric acid levels of the red wine samples, and the pH levels of the white wine samples\n",
        "```\n",
        "SELECT (redwine.\"citric acid\") AS \"Red Wine Citric Acid\", (whitewine.pH) AS \"White Wine pH\"\n",
        "FROM \"laritzrp/WineSamples\".\"redwine\", \"laritzrp/WineSamples\".\"whitewine\"; \n",
        "```"
      ]
    },
    {
      "cell_type": "markdown",
      "metadata": {
        "id": "ffLFq9kuQEjx"
      },
      "source": [
        "Please do questions 11 and 12, and type done in the chat when you are done.\n",
        "\n",
        "**Q11** Create your own SQL statement that counts the number of white wine samples with a quality rating of 8.\n",
        "\n",
        "**Q12** Create your own SQL statement that counts the number of red wine samples with a quality rating of 8."
      ]
    },
    {
      "cell_type": "code",
      "metadata": {
        "id": "9eajr9_tm5Mq"
      },
      "source": [
        ""
      ],
      "execution_count": null,
      "outputs": []
    }
  ]
}
